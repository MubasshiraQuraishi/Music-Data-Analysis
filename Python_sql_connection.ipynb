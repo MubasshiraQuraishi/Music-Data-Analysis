{
 "cells": [
  {
   "cell_type": "code",
   "execution_count": 8,
   "id": "a4d7afe7",
   "metadata": {},
   "outputs": [],
   "source": [
    "import pandas as pd\n",
    "from sqlalchemy import create_engine\n",
    "import warnings\n",
    "warnings.filterwarnings(\"ignore\")\n",
    "# Define connection parameters\n",
    "username = 'username'\n",
    "password = 'password'\n",
    "host = 'host' \n",
    "port = 'port'       \n",
    "database = 'music'\n",
    "\n",
    "# Create a connection string\n",
    "connection_string = f\"mysql+mysqlconnector://{username}:{password}@{host}:{port}/{database}\"\n",
    "\n",
    "# Create an SQLAlchemy engine\n",
    "engine = create_engine(connection_string)"
   ]
  },
  {
   "cell_type": "code",
   "execution_count": 27,
   "id": "bf6dc7ea",
   "metadata": {
    "scrolled": true
   },
   "outputs": [
    {
     "data": {
      "text/html": [
       "<div>\n",
       "<style scoped>\n",
       "    .dataframe tbody tr th:only-of-type {\n",
       "        vertical-align: middle;\n",
       "    }\n",
       "\n",
       "    .dataframe tbody tr th {\n",
       "        vertical-align: top;\n",
       "    }\n",
       "\n",
       "    .dataframe thead th {\n",
       "        text-align: right;\n",
       "    }\n",
       "</style>\n",
       "<table border=\"1\" class=\"dataframe\">\n",
       "  <thead>\n",
       "    <tr style=\"text-align: right;\">\n",
       "      <th></th>\n",
       "      <th>Venue_ID</th>\n",
       "      <th>Venue</th>\n",
       "      <th>Venue_type_ID</th>\n",
       "      <th>Capacity</th>\n",
       "      <th>Construction_start_date</th>\n",
       "      <th>Opening_date</th>\n",
       "      <th>Closing_date</th>\n",
       "      <th>Demolition_date</th>\n",
       "      <th>Construction_cost_$m</th>\n",
       "      <th>Address</th>\n",
       "      <th>City_ID</th>\n",
       "      <th>Latitude</th>\n",
       "      <th>Longitude</th>\n",
       "      <th>Other_names</th>\n",
       "    </tr>\n",
       "  </thead>\n",
       "  <tbody>\n",
       "    <tr>\n",
       "      <th>0</th>\n",
       "      <td>1</td>\n",
       "      <td>Mohegan Sun Arena at Casey Plaza</td>\n",
       "      <td>1</td>\n",
       "      <td>10000.0</td>\n",
       "      <td>15-09-1997</td>\n",
       "      <td>13-11-1999</td>\n",
       "      <td>NaN</td>\n",
       "      <td>NaN</td>\n",
       "      <td>44.0</td>\n",
       "      <td>255 Highland Park Blvd, Wilkes-Barre Township,...</td>\n",
       "      <td>667</td>\n",
       "      <td>41.240373</td>\n",
       "      <td>-75.848126</td>\n",
       "      <td>Northeastern Pennsylvania Civic Arena and Conv...</td>\n",
       "    </tr>\n",
       "    <tr>\n",
       "      <th>1</th>\n",
       "      <td>2</td>\n",
       "      <td>Allstate Arena</td>\n",
       "      <td>1</td>\n",
       "      <td>22000.0</td>\n",
       "      <td>12-09-1978</td>\n",
       "      <td>11-05-1980</td>\n",
       "      <td>NaN</td>\n",
       "      <td>NaN</td>\n",
       "      <td>20.0</td>\n",
       "      <td>6920 Mannheim Rd, Rosemont, IL 60018, United S...</td>\n",
       "      <td>522</td>\n",
       "      <td>42.005319</td>\n",
       "      <td>-87.887819</td>\n",
       "      <td>Rosemont Horizon (19801999)</td>\n",
       "    </tr>\n",
       "    <tr>\n",
       "      <th>2</th>\n",
       "      <td>3</td>\n",
       "      <td>Gainbridge Fieldhouse</td>\n",
       "      <td>1</td>\n",
       "      <td>19000.0</td>\n",
       "      <td>22-07-1997</td>\n",
       "      <td>06-11-1999</td>\n",
       "      <td>NaN</td>\n",
       "      <td>NaN</td>\n",
       "      <td>183.0</td>\n",
       "      <td>125 S Pennsylvania St, Indianapolis, IN 46204,...</td>\n",
       "      <td>284</td>\n",
       "      <td>39.764138</td>\n",
       "      <td>-86.155547</td>\n",
       "      <td>Conseco Fieldhouse (19992011); Bankers Life F...</td>\n",
       "    </tr>\n",
       "    <tr>\n",
       "      <th>3</th>\n",
       "      <td>4</td>\n",
       "      <td>The Palace of Auburn Hills</td>\n",
       "      <td>1</td>\n",
       "      <td>23000.0</td>\n",
       "      <td>07-06-1986</td>\n",
       "      <td>13-08-1988</td>\n",
       "      <td>12-10-2017</td>\n",
       "      <td>11-07-2020</td>\n",
       "      <td>90.0</td>\n",
       "      <td>3777 Lapeer Rd, Auburn Hills, MI 48326, United...</td>\n",
       "      <td>32</td>\n",
       "      <td>42.696944</td>\n",
       "      <td>-83.245556</td>\n",
       "      <td>NaN</td>\n",
       "    </tr>\n",
       "    <tr>\n",
       "      <th>4</th>\n",
       "      <td>5</td>\n",
       "      <td>Rogers Centre</td>\n",
       "      <td>2</td>\n",
       "      <td>55000.0</td>\n",
       "      <td>03-10-1986</td>\n",
       "      <td>03-06-1989</td>\n",
       "      <td>NaN</td>\n",
       "      <td>NaN</td>\n",
       "      <td>570.0</td>\n",
       "      <td>1 Blue Jays Way, Toronto, ON M5V 1J1, Canada</td>\n",
       "      <td>615</td>\n",
       "      <td>43.641818</td>\n",
       "      <td>-79.389144</td>\n",
       "      <td>Skydome (19892005)</td>\n",
       "    </tr>\n",
       "  </tbody>\n",
       "</table>\n",
       "</div>"
      ],
      "text/plain": [
       "   Venue_ID                             Venue  Venue_type_ID  Capacity  \\\n",
       "0         1  Mohegan Sun Arena at Casey Plaza              1   10000.0   \n",
       "1         2                    Allstate Arena              1   22000.0   \n",
       "2         3             Gainbridge Fieldhouse              1   19000.0   \n",
       "3         4        The Palace of Auburn Hills              1   23000.0   \n",
       "4         5                     Rogers Centre              2   55000.0   \n",
       "\n",
       "  Construction_start_date Opening_date Closing_date Demolition_date  \\\n",
       "0              15-09-1997   13-11-1999          NaN             NaN   \n",
       "1              12-09-1978   11-05-1980          NaN             NaN   \n",
       "2              22-07-1997   06-11-1999          NaN             NaN   \n",
       "3              07-06-1986   13-08-1988   12-10-2017      11-07-2020   \n",
       "4              03-10-1986   03-06-1989          NaN             NaN   \n",
       "\n",
       "   Construction_cost_$m                                            Address  \\\n",
       "0                  44.0  255 Highland Park Blvd, Wilkes-Barre Township,...   \n",
       "1                  20.0  6920 Mannheim Rd, Rosemont, IL 60018, United S...   \n",
       "2                 183.0  125 S Pennsylvania St, Indianapolis, IN 46204,...   \n",
       "3                  90.0  3777 Lapeer Rd, Auburn Hills, MI 48326, United...   \n",
       "4                 570.0       1 Blue Jays Way, Toronto, ON M5V 1J1, Canada   \n",
       "\n",
       "   City_ID   Latitude  Longitude  \\\n",
       "0      667  41.240373 -75.848126   \n",
       "1      522  42.005319 -87.887819   \n",
       "2      284  39.764138 -86.155547   \n",
       "3       32  42.696944 -83.245556   \n",
       "4      615  43.641818 -79.389144   \n",
       "\n",
       "                                         Other_names  \n",
       "0  Northeastern Pennsylvania Civic Arena and Conv...  \n",
       "1                       Rosemont Horizon (19801999)  \n",
       "2  Conseco Fieldhouse (19992011); Bankers Life F...  \n",
       "3                                                NaN  \n",
       "4                                Skydome (19892005)  "
      ]
     },
     "execution_count": 27,
     "metadata": {},
     "output_type": "execute_result"
    }
   ],
   "source": [
    "file_path1 = r\"C:\\Users\\Mubasshira\\Downloads\\Music\\Venue.csv\"\n",
    "file_path2 = r\"C:\\Users\\Mubasshira\\Downloads\\Music\\Shows.csv\"\n",
    "file_path3 = r\"C:\\Users\\Mubasshira\\Downloads\\Music\\Tour.csv\"\n",
    "file_path4 = r\"C:\\Users\\Mubasshira\\Downloads\\Music\\Artist.csv\"\n",
    "file_path5 = r\"C:\\Users\\Mubasshira\\Downloads\\Music\\Album.csv\"\n",
    "file_path6 = r\"C:\\Users\\Mubasshira\\Downloads\\Music\\Track.csv\""
   ]
  },
  {
   "cell_type": "code",
   "execution_count": null,
   "id": "768f359e",
   "metadata": {},
   "outputs": [],
   "source": [
    "venue = pd.read_csv(file_path1, encoding='ISO-8859-1')\n",
    "shows = pd.read_csv(file_path2, encoding='ISO-8859-1')\n",
    "tour = pd.read_csv(file_path3, encoding='ISO-8859-1')\n",
    "artist = pd.read_csv(file_path4, encoding='ISO-8859-1')\n",
    "album = pd.read_csv(file_path5, encoding='ISO-8859-1')\n",
    "track = pd.read_csv(file_path6, encoding='ISO-8859-1')"
   ]
  },
  {
   "cell_type": "code",
   "execution_count": 28,
   "id": "3e46248f",
   "metadata": {},
   "outputs": [],
   "source": [
    "import datetime\n",
    "date_columns = ['Construction_start_date', 'Opening_date', 'Closing_date', 'Demolition_date']\n",
    "\n",
    "for col in date_columns:\n",
    "    venue[col] = pd.to_datetime(venue[col], errors='coerce', dayfirst=True)"
   ]
  },
  {
   "cell_type": "code",
   "execution_count": 40,
   "id": "16277383",
   "metadata": {},
   "outputs": [
    {
     "name": "stderr",
     "output_type": "stream",
     "text": [
      "C:\\Users\\Mubasshira\\AppData\\Local\\Temp\\ipykernel_15124\\3673321228.py:1: UserWarning: Could not infer format, so each element will be parsed individually, falling back to `dateutil`. To ensure parsing is consistent and as-expected, please specify a format.\n",
      "  shows['Show_date'] = pd.to_datetime(shows['Show_date'], errors='coerce')\n"
     ]
    }
   ],
   "source": [
    "shows['Show_date'] = pd.to_datetime(shows['Show_date'], errors='coerce')"
   ]
  },
  {
   "cell_type": "code",
   "execution_count": 45,
   "id": "5e584f06",
   "metadata": {},
   "outputs": [],
   "source": [
    "date_columns = ['Start_date','End_date']\n",
    "\n",
    "for col in date_columns:\n",
    "    tour[col] = pd.to_datetime(tour[col], errors='coerce', dayfirst=True)"
   ]
  },
  {
   "cell_type": "code",
   "execution_count": 14,
   "id": "57274a2b",
   "metadata": {},
   "outputs": [
    {
     "name": "stderr",
     "output_type": "stream",
     "text": [
      "C:\\Users\\Mubasshira\\AppData\\Local\\Temp\\ipykernel_11340\\1142370537.py:1: UserWarning: Parsing dates in %d-%m-%Y format when dayfirst=False (the default) was specified. Pass `dayfirst=True` or specify a format to silence this warning.\n",
      "  album['Release_date'] = pd.to_datetime(album['Release_date'], errors='coerce')\n"
     ]
    }
   ],
   "source": [
    "album['Release_date'] = pd.to_datetime(album['Release_date'], errors='coerce')"
   ]
  },
  {
   "cell_type": "code",
   "execution_count": 19,
   "id": "df23cf2a",
   "metadata": {},
   "outputs": [
    {
     "name": "stderr",
     "output_type": "stream",
     "text": [
      "C:\\Users\\Mubasshira\\AppData\\Local\\Temp\\ipykernel_11340\\75319627.py:1: UserWarning: Parsing dates in %d-%m-%Y format when dayfirst=False (the default) was specified. Pass `dayfirst=True` or specify a format to silence this warning.\n",
      "  track['Single_release_date'] = pd.to_datetime(track['Single_release_date'], errors='coerce')\n"
     ]
    }
   ],
   "source": [
    "track['Single_release_date'] = pd.to_datetime(track['Single_release_date'], errors='coerce')"
   ]
  },
  {
   "cell_type": "code",
   "execution_count": 20,
   "id": "4456d310",
   "metadata": {},
   "outputs": [
    {
     "name": "stdout",
     "output_type": "stream",
     "text": [
      "DataFrame uploaded successfully.\n"
     ]
    },
    {
     "name": "stderr",
     "output_type": "stream",
     "text": [
      "C:\\Users\\Mubasshira\\AppData\\Local\\Temp\\ipykernel_11340\\3849673785.py:1: UserWarning: The provided table name 'Track' is not found exactly as such in the database after writing the table, possibly due to case sensitivity issues. Consider using lower case table names.\n",
      "  track.to_sql('Track', con=engine, if_exists='replace', index=False)\n"
     ]
    }
   ],
   "source": [
    "venue.to_sql('Venue', con=engine, if_exists='replace', index=False)\n",
    "shows.to_sql('Shows', con=engine, if_exists='replace', index=False)\n",
    "tour.to_sql('Tour', con=engine, if_exists='replace', index=False)\n",
    "artist.to_sql('Artist', con=engine, if_exists='replace', index=False)\n",
    "album.to_sql('Album', con=engine, if_exists='replace', index=False)\n",
    "track.to_sql('Track', con=engine, if_exists='replace', index=False)\n",
    "\n",
    "print(\"DataFrames uploaded successfully.\")"
   ]
  },
  {
   "cell_type": "code",
   "execution_count": null,
   "id": "8efe3151",
   "metadata": {},
   "outputs": [],
   "source": []
  }
 ],
 "metadata": {
  "kernelspec": {
   "display_name": "Python 3 (ipykernel)",
   "language": "python",
   "name": "python3"
  },
  "language_info": {
   "codemirror_mode": {
    "name": "ipython",
    "version": 3
   },
   "file_extension": ".py",
   "mimetype": "text/x-python",
   "name": "python",
   "nbconvert_exporter": "python",
   "pygments_lexer": "ipython3",
   "version": "3.11.5"
  }
 },
 "nbformat": 4,
 "nbformat_minor": 5
}
